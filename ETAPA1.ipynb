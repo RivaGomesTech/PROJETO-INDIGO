import pandas as pd
import numpy as np
dados= pd.read_csv('UppEvolucaoMensalDeTitulos.csv',encoding='latin1', sep = ';')
display(dados.head())
estatistica=dados.describe()
display(estatistica)
df_copia=dados.copy()
display(df_copia)
